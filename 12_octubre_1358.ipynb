{
  "nbformat": 4,
  "nbformat_minor": 0,
  "metadata": {
    "colab": {
      "name": "12_octubre_1358.ipynb",
      "provenance": [],
      "authorship_tag": "ABX9TyNBNZeXVKfa4YFrTlG/VyZc",
      "include_colab_link": true
    },
    "kernelspec": {
      "name": "python3",
      "display_name": "Python 3"
    }
  },
  "cells": [
    {
      "cell_type": "markdown",
      "metadata": {
        "id": "view-in-github",
        "colab_type": "text"
      },
      "source": [
        "<a href=\"https://colab.research.google.com/github/Juybry/edd_1358_2021/blob/master/12_octubre_1358.ipynb\" target=\"_parent\"><img src=\"https://colab.research.google.com/assets/colab-badge.svg\" alt=\"Open In Colab\"/></a>"
      ]
    },
    {
      "cell_type": "code",
      "metadata": {
        "id": "Wn1Hq_3DV4Ox"
      },
      "source": [
        "#Diccionarios continuacion\n",
        "cliente_banco = {\n",
        "          \"id\":1,\n",
        "          \"nombres\" :[\"Juan\", \"Antonio\"],\n",
        "          \"paterno\":\"Garcia\",\n",
        "          \"materno\":\"Perez\",\n",
        "          \"telefonos\":{\n",
        "                      \"casa\":5523456623,\n",
        "                      \"celular\":5523465334,\n",
        "                      \"trabajo\":5534564435.\n",
        "    },\n",
        "    \"activo\": True,\n",
        "    \"balance\":563457.57,\n",
        "    \"tarjetas\": ({\"tipo\":\"debito\",\"saldo\":12000},{\"tipo\":\"credito\",\"saldo\":3500.0})\n",
        "}\n",
        "print(cliente_banco)\n",
        "#cliente_banco[\"balance\"] = cliente_banco[\"balance\"] -1000.89\n",
        "cliente_banco[\"balance\"] -= 1000.89\n",
        "print(cliente_banco)\n",
        "\n",
        "cliente_banco[\"tarjetas\"]: ({\"tipo\":\"debito\",\"saldo\":12000},\n",
        "                            {\"tipo\":\"credito\",\"saldo\":3500.0},\n",
        "                            {\"tipo\":\"credito\",\"nivel\":\"oro\",\"saldo\":50000})\n",
        "print(cliente_banco)\n",
        "cliente_banco[\"direccion\"]={\"calle\":\"rancho seco\",\"num\":23}\n",
        "print(cliente_banco)"
      ],
      "execution_count": null,
      "outputs": []
    },
    {
      "cell_type": "code",
      "metadata": {
        "id": "_j2Gsw0Fd3YL"
      },
      "source": [
        "llaves= cliente_banco.keys()\n",
        "print(llaves)\n",
        "print(type(llaves))\n",
        "for x in llaves:\n",
        "  print(x)\n",
        "  \n",
        "valores = cliente_banco.values()\n",
        "for v in valores:\n",
        "  print(v)\n",
        "\n",
        "  pares = cliente_banco.items()\n",
        "  print(pares)\n",
        "\n",
        "  for elem in pares:\n",
        "    print(f\" {elem[0]} ={elem[1]} \")"
      ],
      "execution_count": null,
      "outputs": []
    },
    {
      "cell_type": "code",
      "metadata": {
        "id": "tGdZB224hZUR"
      },
      "source": [
        "fruta = {\"nombre\":\"manzana\",\"color\":\"rojo\",\"estado\":\"chihuahua\"}\n",
        "otras_caracteristicas = {\"vitamina\"=\"D\"}\n",
        "fruta.update(otras_caracteristicas)\n",
        "print(fruta)"
      ],
      "execution_count": null,
      "outputs": []
    },
    {
      "cell_type": "markdown",
      "metadata": {
        "id": "A8Q_6DeJZujq"
      },
      "source": [
        ""
      ]
    },
    {
      "cell_type": "code",
      "metadata": {
        "id": "8MibkGdUj4cd"
      },
      "source": [
        "def suma (a,b):\n",
        "  return\n",
        "\n",
        "  def saludar():\n",
        "    print(\"Hola, ¿como estas\")\n",
        "\n",
        "    x=10\n",
        "    y=20\n",
        "    c=suma(x,y)\n",
        "    print(suma)\n",
        "    saludar()"
      ],
      "execution_count": null,
      "outputs": []
    },
    {
      "cell_type": "markdown",
      "metadata": {
        "id": "4aZ8AnJ2k6Sn"
      },
      "source": [
        "#None y las funciones\n",
        "\n",
        "Aprovecha el uso de none en paso de factores"
      ]
    },
    {
      "cell_type": "code",
      "metadata": {
        "id": "rpRurYrQlc10"
      },
      "source": [
        "def calcular(base,veces):\n",
        "  if base != None\n",
        "  resultado = base*veces\n",
        "  else:\n",
        "    resultado=\"desconocido\"\n",
        "    return resultado\n",
        "    print calcular(4,3))\n",
        "    print calcular(Nono,3))"
      ],
      "execution_count": null,
      "outputs": []
    }
  ]
}