{
  "nbformat": 4,
  "nbformat_minor": 0,
  "metadata": {
    "colab": {
      "name": "Tarea 7.ipynb",
      "provenance": [],
      "authorship_tag": "ABX9TyOT6AERNrLRYsw3XVzUkCWY",
      "include_colab_link": true
    },
    "kernelspec": {
      "name": "python3",
      "display_name": "Python 3"
    }
  },
  "cells": [
    {
      "cell_type": "markdown",
      "metadata": {
        "id": "view-in-github",
        "colab_type": "text"
      },
      "source": [
        "<a href=\"https://colab.research.google.com/github/Juybry/edd_1358_2021/blob/master/Tarea_7.ipynb\" target=\"_parent\"><img src=\"https://colab.research.google.com/assets/colab-badge.svg\" alt=\"Open In Colab\"/></a>"
      ]
    },
    {
      "cell_type": "code",
      "metadata": {
        "id": "eeEMTCT28hWE"
      },
      "source": [
        "class Stack:\n",
        "  def __init__( self ):\n",
        "    self.__data = []\n",
        "    self.__size = 0\n",
        "\n",
        "  def get_size( self ):\n",
        "    return self.__size\n",
        "    \n",
        "  def pop( self ):\n",
        "    return self.__data.pop()\n",
        "\n",
        "  def peek( self ):\n",
        "    return self.__data[-1]\n",
        "\n",
        "  def push( self, value ):\n",
        "    self.__data.append(value)\n",
        "\n",
        "  def to_string( self ):\n",
        "    print(\"-------\")\n",
        "    for dato in self.__data[::-1]:\n",
        "      print(f\"| { dato} |\")\n",
        "      print(\"----------\")"
      ],
      "execution_count": 6,
      "outputs": []
    },
    {
      "cell_type": "code",
      "metadata": {
        "colab": {
          "base_uri": "https://localhost:8080/"
        },
        "id": "6X70PPz8AD0j",
        "outputId": "316cd5ab-3f78-4672-a23e-cae74372bd23"
      },
      "source": [
        "pl = Stack()\n",
        "pl.push(34)\n",
        "pl.push(10)\n",
        "pl.push(45)\n",
        "pl.push(4)\n",
        "pl.push(23)\n",
        "pl.push(33)\n",
        "pl.to_string()\n",
        "print(f\"{pl.get_size()}\")\n",
        "print(\"\")\n",
        "valor = pl.pop()\n",
        "print( valor * 2)\n",
        "pl.to_string()\n",
        "print(\"\")\n",
        "valor = pl.peek()\n",
        "print( valor * 2)\n",
        "pl.to_string()\n",
        "print(\"\")\n",
        "pl.get_size()"
      ],
      "execution_count": 8,
      "outputs": [
        {
          "output_type": "stream",
          "text": [
            "-------\n",
            "| 33 |\n",
            "----------\n",
            "| 23 |\n",
            "----------\n",
            "| 4 |\n",
            "----------\n",
            "| 45 |\n",
            "----------\n",
            "| 10 |\n",
            "----------\n",
            "| 34 |\n",
            "----------\n",
            "0\n",
            "\n",
            "66\n",
            "-------\n",
            "| 23 |\n",
            "----------\n",
            "| 4 |\n",
            "----------\n",
            "| 45 |\n",
            "----------\n",
            "| 10 |\n",
            "----------\n",
            "| 34 |\n",
            "----------\n",
            "\n",
            "46\n",
            "-------\n",
            "| 23 |\n",
            "----------\n",
            "| 4 |\n",
            "----------\n",
            "| 45 |\n",
            "----------\n",
            "| 10 |\n",
            "----------\n",
            "| 34 |\n",
            "----------\n",
            "\n"
          ],
          "name": "stdout"
        },
        {
          "output_type": "execute_result",
          "data": {
            "text/plain": [
              "0"
            ]
          },
          "metadata": {
            "tags": []
          },
          "execution_count": 8
        }
      ]
    },
    {
      "cell_type": "code",
      "metadata": {
        "colab": {
          "base_uri": "https://localhost:8080/"
        },
        "id": "InB-B6XLCEGl",
        "outputId": "89f9fa64-180a-451c-d640-ef3b70487407"
      },
      "source": [
        "#Aplicacion de la estructura Stack\n",
        "#1.- Validacion de parentesis balanceados \"(\", \"{\", \"[\"\n",
        "\n",
        "#cadena = \"b=3*(5+(4/2))\"\n",
        "cadena = \"b=3*((5+(4/2))())\"\n",
        "\n",
        "pila = Stack()\n",
        "pila.push(\"#\") #Carácter de pila vacia.\n",
        "for elem in cadena:\n",
        "  if elem == \"(\" :\n",
        "    pila.push(\"*\")\n",
        "  elif elem == \")\" and pila.get_size() != 0 :\n",
        "    pila.pop()\n",
        "  elif pila.get_size() == 0 and elem == \")\":\n",
        "    print(\"Hay demasiados parentesis de cierre y no está balanceado\")\n",
        "    pass\n",
        "\n",
        "  else:\n",
        "    pass\n",
        "if pila.get_size() != 0 :\n",
        "  if pila.peek() == \"#\":\n",
        "    print(\"La expresión está balanceada en parentesis\")\n",
        "  else:\n",
        "    print(\"La expresión no está balanceada en parentesis\")  "
      ],
      "execution_count": 18,
      "outputs": [
        {
          "output_type": "stream",
          "text": [
            "Hay demasiados parentesis de cierre y no está balanceado\n",
            "Hay demasiados parentesis de cierre y no está balanceado\n",
            "Hay demasiados parentesis de cierre y no está balanceado\n",
            "Hay demasiados parentesis de cierre y no está balanceado\n"
          ],
          "name": "stdout"
        }
      ]
    }
  ]
}