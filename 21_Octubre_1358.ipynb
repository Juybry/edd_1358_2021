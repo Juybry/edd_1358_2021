{
  "nbformat": 4,
  "nbformat_minor": 0,
  "metadata": {
    "colab": {
      "name": "21_Octubre_1358.ipynb",
      "provenance": [],
      "authorship_tag": "ABX9TyNB8F5kh7If0fTOuQi3Qqkr",
      "include_colab_link": true
    },
    "kernelspec": {
      "name": "python3",
      "display_name": "Python 3"
    }
  },
  "cells": [
    {
      "cell_type": "markdown",
      "metadata": {
        "id": "view-in-github",
        "colab_type": "text"
      },
      "source": [
        "<a href=\"https://colab.research.google.com/github/Juybry/edd_1358_2021/blob/master/21_Octubre_1358.ipynb\" target=\"_parent\"><img src=\"https://colab.research.google.com/assets/colab-badge.svg\" alt=\"Open In Colab\"/></a>"
      ]
    },
    {
      "cell_type": "code",
      "metadata": {
        "id": "J86ydRDzs1L0",
        "outputId": "e5d6569c-303a-48a2-d630-7e4dc6b98b80",
        "colab": {
          "base_uri": "https://localhost:8080/",
          "height": 85
        }
      },
      "source": [
        "#Encapsulamiento tradicional\n",
        "class SmartPhone:\n",
        "  def __init__( self, m ):\n",
        "    self.__marca = m\n",
        "\n",
        "  def set_marca( self , m ):\n",
        "    self.__marca = m\n",
        "\n",
        "  def get_marca( self ):\n",
        "    return self.__marca\n",
        "\n",
        "  def to_string( self ):\n",
        "    return \"La marca del telefono es: \" + self.__marca\n",
        "\n",
        "sp1 = SmartPhone(\"Huawei\")\n",
        "print(sp1.to_string()) \n",
        "\n",
        "#Prueba del encapsulamiento\n",
        "sp1.__marca= \"IPhone X\"\n",
        "print(sp1.to_string())\n",
        "\n",
        "sp1.set_marca(\"Samsung\") #Cambio de la marca\n",
        "print(sp1.to_string())\n",
        "print(sp1.get_marca())"
      ],
      "execution_count": 9,
      "outputs": [
        {
          "output_type": "stream",
          "text": [
            "La marca del telefono es: Huawei\n",
            "La marca del telefono es: Huawei\n",
            "La marca del telefono es: Samsung\n",
            "Samsung\n"
          ],
          "name": "stdout"
        }
      ]
    },
    {
      "cell_type": "code",
      "metadata": {
        "id": "3ezgNBYsxcRM"
      },
      "source": [
        "#Estilo Phyton 3\n",
        "class SmartPhone:\n",
        "  def __init__( self , m ):\n",
        "    self.marca = m #Llamado al metodo set\n",
        "\n",
        "    @property\n",
        "    def marca( self ): #Define metodo get y declara self.__marca\n",
        "      return self.__marca\n",
        "\n",
        "    @marca.setter\n",
        "    def marca( self , m ):\n",
        "      if m in [\"Lenovo\",\"Sony\",\"Motorola\",\"iPhone SE\",\"Huawei\",\"Xiaomi\"]:\n",
        "        self.__marca = m\n",
        "      else:\n",
        "        print(\"Asignación no valida\")\n",
        "\n",
        "    def to_string( self ):\n",
        "      return \"Marca = \" + self.marca\n",
        "\n",
        "sp2 = SmartPhone(\"Xiaomi\")\n",
        "print( sp2.to_string() )\n",
        "sp2.__marca = \"iPhone SE\"\n",
        "print( sp2.to_string() )\n",
        "sp2.marca = \"motorola\" #Invocacion del metodo set\n",
        "print( sp2.to_string() )\n",
        "\n",
        "print(sp2.marca ) #invocacion del metodo get\n",
        "\n",
        "sp2.marca = \"8724b98 y67e 131\"\n",
        "print( sp2.to_string() )"
      ],
      "execution_count": null,
      "outputs": []
    },
    {
      "cell_type": "code",
      "metadata": {
        "id": "Irbu7r295E9t"
      },
      "source": [
        "class TelefonoTrabajo(SmartPhone):\n",
        "  def __init__( self , m ):\n",
        "    self.marca = m\n",
        "\n",
        "sp3 = TelefonoTrabajo( \"Motorola\" )\n",
        "print(dir(sp3))\n",
        "print(sp3.to_string())"
      ],
      "execution_count": null,
      "outputs": []
    }
  ]
}