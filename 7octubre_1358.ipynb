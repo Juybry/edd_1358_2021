{
  "nbformat": 4,
  "nbformat_minor": 0,
  "metadata": {
    "colab": {
      "name": "7octubre_1358.ipynb",
      "provenance": [],
      "authorship_tag": "ABX9TyP9pYmYVKPtRjkk3uLyOEzf",
      "include_colab_link": true
    },
    "kernelspec": {
      "name": "python3",
      "display_name": "Python 3"
    }
  },
  "cells": [
    {
      "cell_type": "markdown",
      "metadata": {
        "id": "view-in-github",
        "colab_type": "text"
      },
      "source": [
        "<a href=\"https://colab.research.google.com/github/Juybry/edd_1358_2021/blob/master/7octubre_1358.ipynb\" target=\"_parent\"><img src=\"https://colab.research.google.com/assets/colab-badge.svg\" alt=\"Open In Colab\"/></a>"
      ]
    },
    {
      "cell_type": "code",
      "metadata": {
        "id": "HEYUvMvioojo"
      },
      "source": [
        "autos = [\"Mazda\",\"Honda\",\"Akura\",\"Ford\",\"Tesla\"]\n",
        "telefonos = [\"iPhone\",\"Huawei Mate 30\", \"Huawei S10\", \"Alcatel t1000\"]\n",
        "sistemas_operativos = [\"Windows\", \"Linux\", \"Android\", \"IOS\", \"MacOs\"]\n",
        "procesadores = [[\"Intel\", 3.1,True],[\"AMD\",2.7,False],[\"Motorola\",1.1,False]]\n",
        "\n",
        "lista_nd = [autos,telefonos,sistemas_operativos,procesadores]\n",
        "print(lista_nd)\n",
        "print(lista_nd[2][3])\n",
        "print(lista_nd[1][1][3:6])\n",
        "print(lista_nd[3][1][1])\n",
        "print(lista_nd[3][2][0][2:6])\n",
        "#Se usa el -1 al final para indicar la direccion deseada de la impresion\n",
        "print(lista_nd[3][0][0][-2:-5:-1])\n",
        "\n",
        "#Nueva lista, extend\n",
        "colores = [\"rojo\",\"verde\",\"azul\",\"negro\"]\n",
        "flores = [\"margarita\",\"rosa\"]\n",
        "\n",
        "nueva = colores+flores\n",
        "print(nueva)\n",
        "print(colores)\n",
        "print(flores)\n",
        "#extend\n",
        "colores.extend(flores)\n",
        "print(colores)\n",
        "\n",
        "#Nueva lista unpacking\n",
        "print(\"unpacking\")\n",
        "datos_personales = [\"Leonel\",\"Perez\",\"Juzarez\",22,1.67,True]\n",
        "nombre,paterno,materno,edad,estatura,fuma = datos_personales\n",
        "print(f\"Nombre:{nombre}\\nEdad:{edad}\\nEsatura:{estatura}\")"
      ],
      "execution_count": null,
      "outputs": []
    },
    {
      "cell_type": "code",
      "metadata": {
        "id": "kqHC9xFCuMJT"
      },
      "source": [
        "#Tuplas\n",
        "bd = ( \"127.0.0.1\", \"roo\", \"toor\", \"1345\")\n",
        "print(f\"El usuario de la base de datos es {bd[1]}\")\n",
        "\n",
        "#Comprobacion de que una Tupla no puede ser modificada\n",
        "#bd[1] = \"user1\"\n",
        "\n",
        "print(bd[1:3])"
      ],
      "execution_count": null,
      "outputs": []
    },
    {
      "cell_type": "code",
      "metadata": {
        "id": "J3H0yM8FzgJC",
        "outputId": "51c70b35-1afa-423f-87a5-1ec288df823e",
        "colab": {
          "base_uri": "https://localhost:8080/"
        }
      },
      "source": [
        "alumno = {'nombre':'Juan','edad':22,'carrera':'ICO'}\n",
        "print(alumno)\n",
        "print(alumno['edad'])\n",
        "alumno = {\n",
        "    'nombre':'Juan',\n",
        "    'edad':22,\n",
        "    'carrera':'ICO',\n",
        "    'direccion': {'calle':'Bosques de africa',\n",
        "                  'numero':33,\n",
        "                  'delegacion':'Nezahualcoyotl',\n",
        "                  'estado':15,\n",
        "                  'nombre_estado':'Estado de Mexico'\n",
        "                  }\n",
        "\n",
        "}\n",
        "print(alumno)\n",
        "print(alumno['direccion'])\n",
        "print(alumno['direccion'][3:7])\n",
        "print(alumno['direccion'][3:7].upper())\n",
        "alumno['edad'] = 35\n",
        "print(alumno)\n",
        "alumno['promedio'] = 9.9\n",
        "print(alumno)\n",
        "alumno['direccion']['cp']´= 17170\n",
        "print(alumno)\n",
        "alumno['materia']={'nombre':'Cyp','Calificacion'}\n",
        "\n",
        "cliente = { 'id' : 1, \"nombre\" : \"Carlos Slim\"}\n",
        "print(cliente}"
      ],
      "execution_count": 22,
      "outputs": [
        {
          "output_type": "stream",
          "text": [
            "{'nombre': 'Juan', 'edad': 22, 'carrera': 'ICO'}\n",
            "22\n",
            "{'nombre': 'Juan', 'edad': 22, 'carrera': 'ICO', 'direccion': {'calle': 'Bosques de africa', 'numero': 33, 'delegacion': 'Nezahualcoyotl', 'estado': 15, 'nombre_estado': 'Estado de Mexico'}}\n",
            "{'calle': 'Bosques de africa', 'numero': 33, 'delegacion': 'Nezahualcoyotl', 'estado': 15, 'nombre_estado': 'Estado de Mexico'}\n"
          ],
          "name": "stdout"
        }
      ]
    }
  ]
}