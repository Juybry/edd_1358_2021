{
  "nbformat": 4,
  "nbformat_minor": 0,
  "metadata": {
    "colab": {
      "name": "Untitled0.ipynb",
      "provenance": [],
      "authorship_tag": "ABX9TyPDg8gcc6uMasjKdYHMVf+/",
      "include_colab_link": true
    },
    "kernelspec": {
      "name": "python3",
      "display_name": "Python 3"
    }
  },
  "cells": [
    {
      "cell_type": "markdown",
      "metadata": {
        "id": "view-in-github",
        "colab_type": "text"
      },
      "source": [
        "<a href=\"https://colab.research.google.com/github/Juybry/edd_1358_2021/blob/master/Untitled0.ipynb\" target=\"_parent\"><img src=\"https://colab.research.google.com/assets/colab-badge.svg\" alt=\"Open In Colab\"/></a>"
      ]
    },
    {
      "cell_type": "code",
      "metadata": {
        "id": "WNRII_68XtQh",
        "outputId": "604623c3-0073-465c-e341-822286b7ce30",
        "colab": {
          "base_uri": "https://localhost:8080/",
          "height": 34
        }
      },
      "source": [
        "print (\"Hola Colab\")\n",
        "nombre = \"Zin\""
      ],
      "execution_count": null,
      "outputs": [
        {
          "output_type": "stream",
          "text": [
            "Hola Colab\n"
          ],
          "name": "stdout"
        }
      ]
    },
    {
      "cell_type": "code",
      "metadata": {
        "id": "X0G3Q1MEZShk",
        "outputId": "8227c268-79b4-4079-e642-1af1e0e4b67f",
        "colab": {
          "base_uri": "https://localhost:8080/",
          "height": 34
        }
      },
      "source": [
        "print (nombre)"
      ],
      "execution_count": null,
      "outputs": [
        {
          "output_type": "stream",
          "text": [
            "Zin\n"
          ],
          "name": "stdout"
        }
      ]
    },
    {
      "cell_type": "markdown",
      "metadata": {
        "id": "YpL0srtrZ6km"
      },
      "source": [
        "# Introducción\n",
        "\\\n",
        "* Elem 1\n",
        "* Elem 2\n",
        "* Elem 3\n",
        "\n",
        "\\\n",
        "1. Fresa\n",
        "1. Manzana\n",
        "1. Uva\n",
        "\n",
        "\\\n",
        "**Esto es un pensamiento**\n",
        "\n",
        "\\\n",
        "*Esto es una acción*\n",
        "\n",
        "\\\n",
        "Imagen de prueba: \n",
        "![]()\n"
      ]
    },
    {
      "cell_type": "code",
      "metadata": {
        "id": "c442YMWBcXy2"
      },
      "source": [
        "class Silla();\n",
        "  def __init__( self );\n",
        "  self.material = \"\"\n",
        "  self.color = \"\"\n",
        "\n",
        "  def to_string(self);\n",
        "  print (\"=======\")\n",
        "  print (f\"Material: {self.material}\")\n",
        "  print ( f\"{self.color} ====== \")"
      ],
      "execution_count": null,
      "outputs": []
    },
    {
      "cell_type": "code",
      "metadata": {
        "id": "Rw-RbgRBeK8N"
      },
      "source": [
        "obj = Silla()\n",
        "obj_to.string()"
      ],
      "execution_count": null,
      "outputs": []
    }
  ]
}