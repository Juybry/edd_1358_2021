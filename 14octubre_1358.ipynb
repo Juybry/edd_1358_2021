{
  "nbformat": 4,
  "nbformat_minor": 0,
  "metadata": {
    "colab": {
      "name": "14octubre_1358.ipynb",
      "provenance": [],
      "toc_visible": true,
      "authorship_tag": "ABX9TyMSW0buhwYU2BCqUT7+cpI1",
      "include_colab_link": true
    },
    "kernelspec": {
      "name": "python3",
      "display_name": "Python 3"
    }
  },
  "cells": [
    {
      "cell_type": "markdown",
      "metadata": {
        "id": "view-in-github",
        "colab_type": "text"
      },
      "source": [
        "<a href=\"https://colab.research.google.com/github/Juybry/edd_1358_2021/blob/master/14octubre_1358.ipynb\" target=\"_parent\"><img src=\"https://colab.research.google.com/assets/colab-badge.svg\" alt=\"Open In Colab\"/></a>"
      ]
    },
    {
      "cell_type": "code",
      "metadata": {
        "id": "YfXpnsxYpUzi",
        "outputId": "1913a50e-2048-44fd-ca8b-a75721201967",
        "colab": {
          "base_uri": "https://localhost:8080/",
          "height": 68
        }
      },
      "source": [
        "def calcular (a, b, c):\n",
        "  x = a + (b / c)\n",
        "  return x\n",
        "  \n",
        "print(calcular(5, 9, 3))\n",
        "print(calcular(a=5, c=3, b=9))\n",
        "\n",
        "def calcular_v2(a=10, b=20, c=5):\n",
        "  x = a + (b / c)\n",
        "  return x\n",
        "\n",
        "print (calcular_v2(40, 8))"
      ],
      "execution_count": 7,
      "outputs": [
        {
          "output_type": "stream",
          "text": [
            "8.0\n",
            "8.0\n",
            "41.6\n"
          ],
          "name": "stdout"
        }
      ]
    },
    {
      "cell_type": "markdown",
      "metadata": {
        "id": "bqDRTX7FsIgE"
      },
      "source": [
        "#Argumentos a funciones por tupla\n",
        "\n",
        "Se envian los argumentos en un conjunto de elementos dentro de una tupla"
      ]
    },
    {
      "cell_type": "code",
      "metadata": {
        "id": "2oqdkVFwscRp"
      },
      "source": [
        "def calculo (*elem):\n",
        "  print(elem)\n",
        "  x=elem[0] + (elem[1]/elem[2])\n",
        "  return x"
      ],
      "execution_count": null,
      "outputs": []
    },
    {
      "cell_type": "markdown",
      "metadata": {
        "id": "a1_1y9Gks5GV"
      },
      "source": [
        "#Argumentos como diccionario**"
      ]
    },
    {
      "cell_type": "code",
      "metadata": {
        "id": "gUB7ClXXs_nJ"
      },
      "source": [
        "def calculo(**elem):\n",
        "  print(elem)\n",
        "  x=elem[\"a\"] + (elem[\"b\"]/elem[\"c\"])\n",
        "  return x\n",
        "print(calculo(a=5, b=9, c=3))"
      ],
      "execution_count": null,
      "outputs": []
    },
    {
      "cell_type": "markdown",
      "metadata": {
        "id": "B_LIcQ5c2lLU"
      },
      "source": [
        "#Archivos\n",
        "- Abrirlos\n",
        "  - Un str con la ruta el archivo\n",
        "  - dos caracteres: 1->modo de apertura(r,w) y el 2 formato (texto o BBinario\n",
        "- leerlos\n",
        "- modificados"
      ]
    },
    {
      "cell_type": "code",
      "metadata": {
        "id": "RK16YPvy3QGX"
      },
      "source": [
        "archivo = open(\"ejemplo.txt\", \"wt\")\n",
        "archivo.write(\"Hola mundo de at\")\n",
        "archivo.close()"
      ],
      "execution_count": 8,
      "outputs": []
    },
    {
      "cell_type": "code",
      "metadata": {
        "id": "MT2HjjoC4coW",
        "outputId": "4bbdc387-cd71-46f8-ee5a-d6c4d3d5983a",
        "colab": {
          "base_uri": "https://localhost:8080/",
          "height": 129
        }
      },
      "source": [
        "#Tiene que ser en una sola linea\n",
        "#mkdir ejemplo\n",
        "!(cat ejemplo.txt > otra.txt"
      ],
      "execution_count": 11,
      "outputs": [
        {
          "output_type": "error",
          "ename": "SyntaxError",
          "evalue": "ignored",
          "traceback": [
            "\u001b[0;36m  File \u001b[0;32m\"<ipython-input-11-9ddbef255c26>\"\u001b[0;36m, line \u001b[0;32m2\u001b[0m\n\u001b[0;31m    mkdir ejemplo\u001b[0m\n\u001b[0m                ^\u001b[0m\n\u001b[0;31mSyntaxError\u001b[0m\u001b[0;31m:\u001b[0m invalid syntax\n"
          ]
        }
      ]
    }
  ]
}