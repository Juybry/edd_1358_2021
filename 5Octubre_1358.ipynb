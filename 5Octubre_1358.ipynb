{
  "nbformat": 4,
  "nbformat_minor": 0,
  "metadata": {
    "colab": {
      "name": "5Octubre_1358.ipynb",
      "provenance": [],
      "authorship_tag": "ABX9TyMtdLZCgEY5LZjB1jzzGKyw",
      "include_colab_link": true
    },
    "kernelspec": {
      "name": "python3",
      "display_name": "Python 3"
    }
  },
  "cells": [
    {
      "cell_type": "markdown",
      "metadata": {
        "id": "view-in-github",
        "colab_type": "text"
      },
      "source": [
        "<a href=\"https://colab.research.google.com/github/Juybry/edd_1358_2021/blob/master/5Octubre_1358.ipynb\" target=\"_parent\"><img src=\"https://colab.research.google.com/assets/colab-badge.svg\" alt=\"Open In Colab\"/></a>"
      ]
    },
    {
      "cell_type": "code",
      "metadata": {
        "id": "ZxgbSaaAVXiB"
      },
      "source": [
        "#Declaramos las variables\n",
        "precio = 12.5\n",
        "cantidad = 2\n",
        "existencias = True\n",
        "\n",
        "#Texto/Pohblema a imprimir: Precio de los Cheetos es de $12.5 y quiero 2 hay?: True\n",
        "print(\"El precio de los Cheetos es de: $\",precio, \" y quiero \", cantidad, \" hay?\", existencias)\n",
        "\n",
        "#Formato de la clase String\n",
        "print(\"Precio de los Cheetos es {0} y quiero {1}, hay? {2}\".format(precio, cantidad, existencias))\n",
        "#Modificar el orden de las variables con el uso de asignaciones numericas\n",
        "print(\"Precio de los Cheetos es {1} y quiero {2}, hay? {0}\".format(precio, cantidad, existencias))\n",
        "\n",
        "#Operador F\n",
        "print( f\"Precio de los Cheetos es {precio} y quiero {cantidad}, hay? {existencias}\")"
      ],
      "execution_count": null,
      "outputs": []
    },
    {
      "cell_type": "markdown",
      "metadata": {
        "id": "1hsuwgBDYYab"
      },
      "source": [
        "#Listas\n",
        "* declaracion [ ]\n",
        "* selector [ ]\n",
        "* mutable\n",
        "#Tuplas\n",
        "* Declaracion ( )\n",
        "* Selector [ ]\n",
        "* No mutable\n",
        "#Diccionarios\n",
        "* Conjuntos de datos de pares de llaves: valor\n",
        "* Son mutables\n",
        "* Son equivalentes a JSON\n",
        "#Conjuntos\n",
        "Grupo de elementos con la teoria de conjunto de operaciones de conjuntos\n",
        "\n"
      ]
    },
    {
      "cell_type": "code",
      "metadata": {
        "id": "0nxtDuLWZ532"
      },
      "source": [
        "#Listas\n",
        "materias = [\"CyP\", \"DAA\", \"EDD\", \"IS\", \"POO\"]\n",
        "\n",
        "#Impresión de datos y algunos ejemplos de impresion modificada\n",
        "print(materias[2])\n",
        "print(materias[-1])\n",
        "print(materias[4])\n",
        "print(materias[::-1])\n",
        "\n",
        "#Crear una lista a partir de un string\n",
        "fecha = \"05/octubre/2020\"\n",
        "lista_fecha = fecha.split(\"/\")\n",
        "print(lista_fecha)\n",
        "\n",
        "#Crear un string a partir de una lista\n",
        "#Para el formato de las listas se usan los corchetes cuadrados y comas para separar valores\n",
        "#Los valores deben de ser string\n",
        "lista_hora = [\"15\",\"22\",\"45\"] \n",
        "hora = \":\".join(lista_hora)\n",
        "print(hora)\n",
        "\n",
        "print(\"===============\")\n",
        "print(materias)\n",
        "print(lista_fecha)\n",
        "print(lista_hora)\n",
        "\n",
        "materias[0] = \"Computadoras y programación\"\n",
        "print(materias)\n",
        "\n",
        "#agregar\n",
        "materias.append(\"Calidad\")\n",
        "print(materias)\n",
        "\n",
        "#insert Agregar un valor a la lista\n",
        "materias.insert(2,\"Emprendimiento\")\n",
        "print(materias)\n",
        "\n",
        "#pop Sacar un valor de la lista\n",
        "materia= materias.pop(2)\n",
        "print(materia)\n",
        "print(materias)\n",
        "materia = materias\n",
        "\n",
        "#Clear limpiar lista\n",
        "materias.clear()\n",
        "print(materias)\n",
        "\n",
        "#Slicing [::]\n",
        "print(\"Slicing\")\n",
        "numeros = (0,1,2,3,4,5,6,7,8,9,10)\n",
        "print(numeros[4:10])\n",
        "\n",
        "#Sustituir un numero con slicind\n",
        "numeros[4:9:1] = [-2,-3]\n",
        "print(numeros)"
      ],
      "execution_count": null,
      "outputs": []
    },
    {
      "cell_type": "code",
      "metadata": {
        "id": "k5OLwfF7iMdF"
      },
      "source": [
        "autos = [\"Mazda\",\"Honda\",\"Akura\",\"Ford\",\"Tesla\"]\n",
        "telefonos = [\"iPhone\",\"Huawei Mate 30\", \"Huawei S10\", \"Alcatel t1000\"]\n",
        "sistemas_operativos = [\"Windows\", \"Linux\", \"Android\", \"IOS\", \"MacOs\"]\n",
        "\n",
        "lista_2d = [autos,telefonos,sistemas_operativos]\n",
        "print(lista_2d)\n",
        "print(lista-2d[1][1])"
      ],
      "execution_count": null,
      "outputs": []
    }
  ]
}