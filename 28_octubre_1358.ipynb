{
  "nbformat": 4,
  "nbformat_minor": 0,
  "metadata": {
    "colab": {
      "name": "28_octubre_1358.ipynb",
      "provenance": [],
      "authorship_tag": "ABX9TyMLEjag8dxeibIiiYzSE6K8",
      "include_colab_link": true
    },
    "kernelspec": {
      "name": "python3",
      "display_name": "Python 3"
    }
  },
  "cells": [
    {
      "cell_type": "markdown",
      "metadata": {
        "id": "view-in-github",
        "colab_type": "text"
      },
      "source": [
        "<a href=\"https://colab.research.google.com/github/Juybry/edd_1358_2021/blob/master/28_octubre_1358.ipynb\" target=\"_parent\"><img src=\"https://colab.research.google.com/assets/colab-badge.svg\" alt=\"Open In Colab\"/></a>"
      ]
    },
    {
      "cell_type": "code",
      "metadata": {
        "id": "im3f_6Nz8_kK"
      },
      "source": [
        "\"\"\"\n",
        "Array\n",
        "\"\"\"\n",
        "class Array:\n",
        "  def init(self , tam ):\n",
        "    self.datos = [ 0 for x in range(tam)] #generadores\n",
        "\n",
        "  def get_item( self, index ):\n",
        "    dato = 0\n",
        "    if index >= 0 and index < len(self.datos):\n",
        "      dato = self.datos[index]\n",
        "    else:\n",
        "      print(\"Error en el indice\")\n",
        "    return dato\n",
        "\n",
        "  def set_item( self, dato, index):\n",
        "    if index >= 0 and index < len(self.datos):\n",
        "      self.datos[index] = dato\n",
        "    else:\n",
        "      print(\"Error en el indice\")\n",
        "\n",
        "  def get_lenght(self):\n",
        "    #obtener tamaño del arreglo\n",
        "    return len(self.datos)\n",
        "\n",
        "  def clear( self, dato ):\n",
        "    self.datos = [dato for x in range(self.tam)]\n",
        "\n",
        "  def getIterator( self ):\n",
        "    return _getIterator( self.datos )\n",
        "\n",
        "class _getIterator:\n",
        "  def init(self , arreglo ):\n",
        "    self.arreglo = arreglo\n",
        "    self.indice_actual = 0\n",
        "\n",
        "  def iter( self ):\n",
        "    return self\n",
        "\n",
        "  def next( self ):\n",
        "    if self.indice_actual < len(self.arreglo):\n",
        "      dato = self.arreglo[self.indice_actual]\n",
        "      self.indice_actual += 1\n",
        "      return dato\n",
        "    else:\n",
        "      raise StopIteration\n",
        "\n",
        "\n",
        "mi_arreglo = Array(10)\n",
        "print(mi_arreglo.get_item( 2 ))\n",
        "mi_arreglo.set_item( 2345, 3)\n",
        "print(mi_arreglo.get_item( 3 ))\n",
        "\n",
        "for x in mi_arreglo.getIterator():\n",
        "  print(x)"
      ],
      "execution_count": null,
      "outputs": []
    }
  ]
}