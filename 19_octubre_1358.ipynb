{
  "nbformat": 4,
  "nbformat_minor": 0,
  "metadata": {
    "colab": {
      "name": "19_octubre_1358.ipynb",
      "provenance": [],
      "authorship_tag": "ABX9TyPAMHa4fdb81eNR2XNCR6Ae",
      "include_colab_link": true
    },
    "kernelspec": {
      "name": "python3",
      "display_name": "Python 3"
    }
  },
  "cells": [
    {
      "cell_type": "markdown",
      "metadata": {
        "id": "view-in-github",
        "colab_type": "text"
      },
      "source": [
        "<a href=\"https://colab.research.google.com/github/Juybry/edd_1358_2021/blob/master/19_octubre_1358.ipynb\" target=\"_parent\"><img src=\"https://colab.research.google.com/assets/colab-badge.svg\" alt=\"Open In Colab\"/></a>"
      ]
    },
    {
      "cell_type": "code",
      "metadata": {
        "id": "BmWYw4oAaQu5"
      },
      "source": [
        "archivo = open(\"frutas.txt\",\"rt\")\n",
        "\n",
        "data = archivo.read()\n",
        "print(data.upper())\n",
        "\n",
        "archivo.close()"
      ],
      "execution_count": null,
      "outputs": []
    },
    {
      "cell_type": "code",
      "metadata": {
        "id": "In3ckQY6eQk9"
      },
      "source": [
        "#función readline\n",
        "archivo = open('frutas.txt','rt')\n",
        "data = archivo.readline()\n",
        "while data != \"\":\n",
        "    print(data)\n",
        "    data = archivo.readline()\n",
        "\n",
        "archivo.close()"
      ],
      "execution_count": null,
      "outputs": []
    },
    {
      "cell_type": "code",
      "metadata": {
        "id": "2jwwjKfAgE8-",
        "outputId": "fe1ec652-63df-4591-cc6b-79293af27798",
        "colab": {
          "base_uri": "https://localhost:8080/",
          "height": 51
        }
      },
      "source": [
        "#readlines\n",
        "\n",
        "archivo = open(\"frutas.txt\",\"rt\")\n",
        "data = archivo.readlines()\n",
        "print(data)\n",
        "\n",
        "frutas=[]\n",
        "for linea in data:\n",
        "  frutas.append(linea.strip())\n",
        "\n",
        "frutas_final = []\n",
        "for elem in frutas:\n",
        "  for fruta in elem.split(\",\"):\n",
        "    frutas_final.append(fruta.strip())\n",
        "\n",
        "print(frutas_final)\n",
        "archivo.close()"
      ],
      "execution_count": 11,
      "outputs": [
        {
          "output_type": "stream",
          "text": [
            "['limon,aguacate,fresa,manzana\\n', 'ciruela,capulin,naranja\\n', 'pera,kiwi']\n",
            "['limon', 'aguacate', 'fresa', 'manzana', 'ciruela', 'capulin', 'naranja', 'pera', 'kiwi']\n"
          ],
          "name": "stdout"
        }
      ]
    },
    {
      "cell_type": "markdown",
      "metadata": {
        "id": "KImPy7zqlD7m"
      },
      "source": [
        "#Poo con Phyton\n",
        "\n",
        "- Clase\n",
        "- Objetos\n",
        "- Atributos\n",
        "- Metodos\n",
        "- Método constructor\n",
        "- Encapsulamiento (publico y privado)\n",
        "- Herencia\n",
        "\n",
        "Para declarar clases en Python se usa la palabra reservada Class"
      ]
    },
    {
      "cell_type": "code",
      "metadata": {
        "id": "kTYpp4pPlsL1"
      },
      "source": [
        "class Persona:\n",
        "  def __init__( self, edd, est ):\n",
        "    self.edad = edd\n",
        "    self.estatura = est\n",
        "  def to_string( self ):\n",
        "    print(f\"Edad={self.edad}, Estatura={self.estatura}\")  \n",
        "\n",
        "per1 = Persona(20,1.75)\n",
        "per1.to_string()\n",
        "per1.estatura = 10.4\n",
        "per1.to_string()"
      ],
      "execution_count": null,
      "outputs": []
    }
  ]
}