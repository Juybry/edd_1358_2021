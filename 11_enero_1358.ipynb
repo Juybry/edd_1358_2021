{
  "nbformat": 4,
  "nbformat_minor": 0,
  "metadata": {
    "colab": {
      "name": "11_enero_1358.ipynb",
      "provenance": [],
      "authorship_tag": "ABX9TyMMeVFuGLrNg3QWAtDyEUmP",
      "include_colab_link": true
    },
    "kernelspec": {
      "name": "python3",
      "display_name": "Python 3"
    }
  },
  "cells": [
    {
      "cell_type": "markdown",
      "metadata": {
        "id": "view-in-github",
        "colab_type": "text"
      },
      "source": [
        "<a href=\"https://colab.research.google.com/github/Juybry/edd_1358_2021/blob/master/11_enero_1358.ipynb\" target=\"_parent\"><img src=\"https://colab.research.google.com/assets/colab-badge.svg\" alt=\"Open In Colab\"/></a>"
      ]
    },
    {
      "cell_type": "code",
      "metadata": {
        "id": "ZE3p_eVXOzEi"
      },
      "source": [
        "class NodoArbol:\r\n",
        "  def __init__( self, dato, hijo_izq=None, hijo_der=None):\r\n",
        "    self.dato = dato\r\n",
        "    self.hijo_izq = hijo_izq\r\n",
        "    self.hijo_der = hijo_der"
      ],
      "execution_count": 2,
      "outputs": []
    },
    {
      "cell_type": "code",
      "metadata": {
        "id": "1erzXaI6Q7gR"
      },
      "source": [
        "arbol = NodoArbol(\"R\")\r\n",
        "arbol.hijo_izq = NodoArbol(\"C\")\r\n",
        "arbol.hijo_der = NodoArbol(\"H\")\r\n",
        "\r\n",
        "#Imprimir el valor del nodo Raiz\r\n",
        "print(arbol.dato)\r\n",
        "#Imprimir el hijo izquierdo\r\n",
        "print(arbol.hijo_izq.dato)\r\n",
        "#Imprimir el hijo derecho\r\n",
        "print(arbol.hijo_der.dato)"
      ],
      "execution_count": null,
      "outputs": []
    },
    {
      "cell_type": "code",
      "metadata": {
        "id": "V_9PNnlCSuAJ"
      },
      "source": [
        "arbol_v2 = NodoArbol(\"R\", NodoArbol(\"C\"), NodoArbol(\"H\"))\r\n",
        "print(arbol_v2.dato)\r\n",
        "print(arbol_v2.hijo_izq.dato)\r\n",
        "print(arbol_v2.hijo_der.dato)"
      ],
      "execution_count": null,
      "outputs": []
    },
    {
      "cell_type": "code",
      "metadata": {
        "id": "QZrFGg2CTWjx"
      },
      "source": [
        "#Ejercicio 2\r\n",
        "arbol2 = NodoArbol(\"4\", NodoArbol(\"3\", NodoArbol(\"2\", NodoArbol(\"2\"))), NodoArbol(\"5\"))\r\n",
        "print(arbol2.dato)\r\n",
        "print(arbol2.hijo_der.dato)\r\n",
        "print(arbol2.hijo_izq.dato)\r\n",
        "print(arbol2.hijo_izq.hijo_izq.dato)\r\n",
        "print(arbol2.hijo_izq.hijo_izq.hijo_izq.dato)"
      ],
      "execution_count": null,
      "outputs": []
    },
    {
      "cell_type": "code",
      "metadata": {
        "id": "JZcZBLhDXxkI"
      },
      "source": [
        "#Ejercicio 2\r\n",
        "arbol2 = NodoArbol(\"4\", NodoArbol(\"3\", NodoArbol(\"2\", NodoArbol(\"2\"))), NodoArbol(\"5\"))\r\n",
        "print(arbol2.hijo_izq.hijo_izq.hijo_izq.dato)\r\n",
        "\r\n",
        "aux = arbol2\r\n",
        "while aux.hijo_izq != None:\r\n",
        "  aux = aux.hijo_izq\r\n",
        "print(aux.dato)"
      ],
      "execution_count": null,
      "outputs": []
    },
    {
      "cell_type": "code",
      "metadata": {
        "id": "VPVgc1g6Y24q"
      },
      "source": [
        "#Ejercicio 3\r\n",
        "class NodoArbol3:\r\n",
        "  def __init__(self, dato, hijo_izq = None, hijo_cen = None, hijo_der = None):\r\n",
        "    self.dato = dato\r\n",
        "    self.hijo_izq = hijo_izq\r\n",
        "    self.hijo_cen = hijo_cen\r\n",
        "    self.hijo_der = hijo_der\r\n",
        "\r\n",
        "arbol3 = NodoArbol(\"R\", NodoArbol(\"I\", None, NodoArbol(\"X\"), None), NodoArbol(\"C\", NodoArbol(\"Y\"),None, None ), NodoArbol(\"D\", None, None NodoArbol(\"Z\")))"
      ],
      "execution_count": null,
      "outputs": []
    }
  ]
}