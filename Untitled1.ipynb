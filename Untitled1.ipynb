{
  "nbformat": 4,
  "nbformat_minor": 0,
  "metadata": {
    "colab": {
      "name": "Untitled1.ipynb",
      "provenance": [],
      "authorship_tag": "ABX9TyPbxmXsnYLq6i+SP4tOLFNa",
      "include_colab_link": true
    },
    "kernelspec": {
      "name": "python3",
      "display_name": "Python 3"
    }
  },
  "cells": [
    {
      "cell_type": "markdown",
      "metadata": {
        "id": "view-in-github",
        "colab_type": "text"
      },
      "source": [
        "<a href=\"https://colab.research.google.com/github/Juybry/edd_1358_2021/blob/master/Untitled1.ipynb\" target=\"_parent\"><img src=\"https://colab.research.google.com/assets/colab-badge.svg\" alt=\"Open In Colab\"/></a>"
      ]
    },
    {
      "cell_type": "code",
      "metadata": {
        "id": "uC6Qj4IRszGk"
      },
      "source": [
        ""
      ],
      "execution_count": null,
      "outputs": []
    },
    {
      "cell_type": "markdown",
      "metadata": {
        "id": "ybqAPIhds8Sw"
      },
      "source": [
        "#**Fundamentos de Python**\n",
        "\\\n",
        "\n",
        "### Tipos de datos\n",
        "\n",
        "* Edad:\n",
        "* Nombre:\n",
        "* Estatura:\n",
        "* Tiene_INE:\n",
        "\n",
        "\\\n",
        "### Compuestos\n",
        "\n",
        "#### Listas\n",
        "* Son mutables\n",
        "* Se accede a los elementos via indice\n",
        "* Los elementos pueden ser de diferentes tipos\n",
        "* lista_ejemplo = [\"manzana\", 1.57 , True, [\"rojo\", \"azul\"]]\n",
        "\n",
        "\\\n",
        "#### Tuplas\n",
        "* Son inmutables\n",
        "* Se accede a los elementos via indice\n",
        "* Los elementos pueden ser de diferentes tipos\n",
        "* tupla_ejemplo =  (\"root\", \"123.322.45.4\", \"1234dios\")\n",
        "\n",
        "\\\n",
        "#### Diccionario\n",
        "* Son equivalentes a los JSON de JS\n",
        "\n",
        "\\\n",
        "#### Sets\n",
        "* Son datos agrupados"
      ]
    },
    {
      "cell_type": "code",
      "metadata": {
        "id": "1BcosYwdvEpi",
        "outputId": "ed80087a-4fb3-4d3a-d0c8-b7431f9b3e87",
        "colab": {
          "base_uri": "https://localhost:8080/",
          "height": 187
        }
      },
      "source": [
        "lista_ejemplo = [\"manzana\", 1.57 , True, [\"rojo\", \"azul\"]]\n",
        "\n",
        "print (lista_ejemplo [1] )\n",
        "print (lista_ejemplo [3] )\n",
        "print (lista_ejemplo [3] [1] )\n",
        "\n",
        "\n",
        "lista_ejemplo[0]= \"manzana\"\n",
        "print (lista_ejemplo)\n",
        "\n",
        "#Mostrar el ultimo elemento\n",
        "valor = lista_ejemplo.pop()\n",
        "print(valor)\n",
        "print (lista_ejemplo)\n",
        "\n",
        "#Ayuda y Diccionario (Marcados como comentarios para evitar el relleno)\n",
        "#print (\"================\")\n",
        "#print (help(list))\n",
        "\n",
        "#Insertar valores a la lista previamente establecida en este caso Huawei\n",
        "lista_ejemplo.insert(1, \"Huawei\")\n",
        "print(lista_ejemplo)\n",
        "\n",
        "conteo = lista_ejemplo.count(\"Huawei\")\n",
        "print(conteo)\n",
        "\n",
        "#Añade una nueva lista\n",
        "colores = [\"Morado\", \"Verde\", \"Rosa\"]\n",
        "lista_ejemplo.append(colores)\n",
        "\n",
        "print(lista_ejemplo)\n",
        "\n",
        "#Con extends fuciona dos listas\n",
        "lista_ejemplo.extend(colores)\n",
        "print(lista_ejemplo)"
      ],
      "execution_count": 8,
      "outputs": [
        {
          "output_type": "stream",
          "text": [
            "1.57\n",
            "['rojo', 'azul']\n",
            "azul\n",
            "['manzana', 1.57, True, ['rojo', 'azul']]\n",
            "['rojo', 'azul']\n",
            "['manzana', 1.57, True]\n",
            "['manzana', 'Huawei', 1.57, True]\n",
            "1\n",
            "['manzana', 'Huawei', 1.57, True, ['Morado', 'Verde', 'Rosa']]\n",
            "['manzana', 'Huawei', 1.57, True, ['Morado', 'Verde', 'Rosa'], 'Morado', 'Verde', 'Rosa']\n"
          ],
          "name": "stdout"
        }
      ]
    }
  ]
}