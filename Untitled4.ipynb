{
  "nbformat": 4,
  "nbformat_minor": 0,
  "metadata": {
    "colab": {
      "name": "Untitled4.ipynb",
      "provenance": [],
      "authorship_tag": "ABX9TyNWmm2dH+Vl938z5gS3ivxv",
      "include_colab_link": true
    },
    "kernelspec": {
      "name": "python3",
      "display_name": "Python 3"
    }
  },
  "cells": [
    {
      "cell_type": "markdown",
      "metadata": {
        "id": "view-in-github",
        "colab_type": "text"
      },
      "source": [
        "<a href=\"https://colab.research.google.com/github/Juybry/edd_1358_2021/blob/master/Untitled4.ipynb\" target=\"_parent\"><img src=\"https://colab.research.google.com/assets/colab-badge.svg\" alt=\"Open In Colab\"/></a>"
      ]
    },
    {
      "cell_type": "code",
      "metadata": {
        "id": "yuxwO8_O0_ei"
      },
      "source": [
        "class Nodo:\n",
        "  def __init__(self, dato):\n",
        "    self.__dato = dato\n",
        "    self.__siguiente = None\n",
        "\n",
        "  def get_dato (self):\n",
        "    return self.__dato\n",
        "\n",
        "  def set_dato (self, d):\n",
        "    self.__dato=d\n",
        "\n",
        "  def get_siguiente(self):\n",
        "    return self.__siguiente\n",
        "\n",
        "  def set_siguiente(self, d)\n",
        "    self.__siguiente = d\n",
        "\n",
        "  def to_String(self):\n",
        "    return \"|\" + str(self.__dato) + \"|\" + str(self.__siguiente) + \"| -->\"\n",
        "\n",
        "  #ejemplo1\n",
        "a=Nodo(10)\n",
        "print(a.to_String())\n",
        "\n",
        "  #Ejemplo2\n",
        "a. set_siguiente(20)\n",
        "print(a.to_string())\n",
        "\n",
        "  #Ejemplo3\n"
      ],
      "execution_count": null,
      "outputs": []
    },
    {
      "cell_type": "code",
      "metadata": {
        "id": "lt2aldviBoBh"
      },
      "source": [
        " def show( self ):\n",
        "        curr_node = self # Head\n",
        "        print(\" Inicio de la estructura ligada:\")\n",
        "        print(\"|\" + str(curr_node.get_dato()) + \"| -->\" , end =\"\" )\n",
        "        while( curr_node.get_siguiente() != None ):\n",
        "            curr_node = curr_node.get_siguiente()\n",
        "            print(\"|\" + str(curr_node.get_dato() ) + \"| -->\" , end =\"\" )\n",
        "        print(\"\\nFin\")\n",
        "# Ejemplo 1\n",
        "a = Nodo( 10 )\n",
        "a.show()\n",
        "\n",
        "\n",
        "# ejemplo 2\n",
        "\n",
        "a.set_siguiente( Nodo(20) )\n",
        "a.show()"
      ],
      "execution_count": null,
      "outputs": []
    },
    {
      "cell_type": "code",
      "metadata": {
        "id": "Hhjb3cBUD8-Z"
      },
      "source": [
        "class Nodo:\n",
        "  def __init__ (self, dato):\n",
        "    self.__dato=dato\n",
        "    self.__siguiente= None\n",
        "\n",
        "  def get_dato (self):\n",
        "    return self.__dato\n",
        "\n",
        "  def set_dato (self, d):\n",
        "    self.__dato=d\n",
        "\n",
        "  def get_siguiente(self):\n",
        "    return self.__siguiente\n",
        "\n",
        "  def set_siguiente(self,d):\n",
        "    self.__siguiente=d\n",
        "\n",
        "  def show( self ):\n",
        "        curr_node = self # Head\n",
        "        print(\" Inicio de la estructura ligada:\")\n",
        "        print(\"|\" + str(curr_node.get_dato()) + \"| -->\" , end =\"\" )\n",
        "        while( curr_node.get_siguiente() != None ):\n",
        "            curr_node = curr_node.get_siguiente()\n",
        "            print(\"|\" + str(curr_node.get_dato() ) + \"| -->\" , end =\"\" )\n",
        "        print(\"\\nFin\")\n",
        "        \n",
        "\n",
        "# ejemplo 1\n",
        "a = Nodo( 10 )\n",
        "print(a.show())\n",
        "\n",
        "# ejemplo 2"
      ],
      "execution_count": null,
      "outputs": []
    }
  ]
}