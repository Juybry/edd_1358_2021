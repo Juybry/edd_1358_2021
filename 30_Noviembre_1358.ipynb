{
  "nbformat": 4,
  "nbformat_minor": 0,
  "metadata": {
    "colab": {
      "name": "30_Noviembre_1358.ipynb",
      "provenance": [],
      "authorship_tag": "ABX9TyPx/xOyMJdpSRxg0hv9xrMq",
      "include_colab_link": true
    },
    "kernelspec": {
      "name": "python3",
      "display_name": "Python 3"
    }
  },
  "cells": [
    {
      "cell_type": "markdown",
      "metadata": {
        "id": "view-in-github",
        "colab_type": "text"
      },
      "source": [
        "<a href=\"https://colab.research.google.com/github/Juybry/edd_1358_2021/blob/master/30_Noviembre_1358.ipynb\" target=\"_parent\"><img src=\"https://colab.research.google.com/assets/colab-badge.svg\" alt=\"Open In Colab\"/></a>"
      ]
    },
    {
      "cell_type": "code",
      "metadata": {
        "id": "eeEMTCT28hWE"
      },
      "source": [
        "class Stack:\n",
        "  def __init__( self ):\n",
        "    self.__data = []\n",
        "    self.__size = 0\n",
        "\n",
        "  def pop( self ):\n",
        "    return self.__data.pop()\n",
        "\n",
        "  def peek( self ):\n",
        "    return self.__data[-1]\n",
        "\n",
        "  def push( self, value ):\n",
        "    self.__data.append(value)\n",
        "\n",
        "  def to_string( self ):\n",
        "    print(\"-------\")\n",
        "    for dato in self.__data[::-1]:\n",
        "      print(f\"| { dato} |\")\n",
        "      print(\"----------\")"
      ],
      "execution_count": 10,
      "outputs": []
    },
    {
      "cell_type": "code",
      "metadata": {
        "colab": {
          "base_uri": "https://localhost:8080/"
        },
        "id": "6X70PPz8AD0j",
        "outputId": "b3086f8b-319e-4e79-ad09-0a2150fce88d"
      },
      "source": [
        "pl = Stack()\n",
        "pl.push(34)\n",
        "pl.push(10)\n",
        "pl.push(45)\n",
        "pl.push(4)\n",
        "pl.push(23)\n",
        "valor = pl.pop()\n",
        "print(valor*2)\n",
        "pl.to_string()\n",
        "valor = pl.peek()\n",
        "print(valor*2)\n",
        "pl.to_string()"
      ],
      "execution_count": 21,
      "outputs": [
        {
          "output_type": "stream",
          "text": [
            "46\n",
            "-------\n",
            "| 4 |\n",
            "----------\n",
            "| 45 |\n",
            "----------\n",
            "| 10 |\n",
            "----------\n",
            "| 34 |\n",
            "----------\n",
            "8\n",
            "-------\n",
            "| 4 |\n",
            "----------\n",
            "| 45 |\n",
            "----------\n",
            "| 10 |\n",
            "----------\n",
            "| 34 |\n",
            "----------\n"
          ],
          "name": "stdout"
        }
      ]
    },
    {
      "cell_type": "code",
      "metadata": {
        "colab": {
          "base_uri": "https://localhost:8080/"
        },
        "id": "InB-B6XLCEGl",
        "outputId": "e7682a55-9d72-4e05-fa4f-ab1a03ca7204"
      },
      "source": [
        "#Aplicacion de la estructura Stack\n",
        "#1.- Validacion de parentesis balanceados \"(\", \"{\", \"[\"\n",
        "\n",
        "#cadena = \"b=3*(5+(4/2))\"\n",
        "cadena = \"b=3*(5+(4/2)\"\n",
        "\n",
        "pila = Stack()\n",
        "pila.push(\"#\") #Carácter de pila vacia.\n",
        "for elem in cadena:\n",
        "  if elem == \"(\" :\n",
        "    pila.push(\"*\")\n",
        "  elif elem == \")\" :\n",
        "    pila.pop()\n",
        "  else:\n",
        "    pass\n",
        "if pila.peek() == \"#\":\n",
        "  print(\"La expresión está balanceada en parentesis\")\n",
        "else:\n",
        "  print(\"La expresión no está balanceada en parentesis\")  "
      ],
      "execution_count": 20,
      "outputs": [
        {
          "output_type": "stream",
          "text": [
            "La expresión no está balanceada en parentesis\n"
          ],
          "name": "stdout"
        }
      ]
    }
  ]
}