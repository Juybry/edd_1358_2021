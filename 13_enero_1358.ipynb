{
  "nbformat": 4,
  "nbformat_minor": 0,
  "metadata": {
    "colab": {
      "name": "13_enero_1358.ipynb",
      "provenance": [],
      "authorship_tag": "ABX9TyODIQ2EPJSgIl1LC8ksfyXj",
      "include_colab_link": true
    },
    "kernelspec": {
      "name": "python3",
      "display_name": "Python 3"
    }
  },
  "cells": [
    {
      "cell_type": "markdown",
      "metadata": {
        "id": "view-in-github",
        "colab_type": "text"
      },
      "source": [
        "<a href=\"https://colab.research.google.com/github/Juybry/edd_1358_2021/blob/master/13_enero_1358.ipynb\" target=\"_parent\"><img src=\"https://colab.research.google.com/assets/colab-badge.svg\" alt=\"Open In Colab\"/></a>"
      ]
    },
    {
      "cell_type": "code",
      "metadata": {
        "id": "WQuqXzbFlORt"
      },
      "source": [
        "def factorial(n):\r\n",
        "  if n==0:\r\n",
        "    return 1\r\n",
        "  else:\r\n",
        "    return factorial(n-1)*n\r\n",
        "\r\n",
        "for num in range(21):\r\n",
        "  print(factorial(num))"
      ],
      "execution_count": null,
      "outputs": []
    },
    {
      "cell_type": "code",
      "metadata": {
        "id": "AaN1HbTHnIMt"
      },
      "source": [
        "def printRev(n):\r\n",
        "  if n>0:\r\n",
        "    printRev(n-1)\r\n",
        "    print(n)\r\n",
        "    \r\n",
        "printRev(3)"
      ],
      "execution_count": null,
      "outputs": []
    },
    {
      "cell_type": "code",
      "metadata": {
        "colab": {
          "base_uri": "https://localhost:8080/"
        },
        "id": "fkmXgUArq14l",
        "outputId": "6a226542-0fc1-44a3-f056-d2748f8298d5"
      },
      "source": [
        "def fibonacci(n):\r\n",
        "  if n==0:\r\n",
        "    return 0\r\n",
        "  else:\r\n",
        "    if n == 1:\r\n",
        "      return 1\r\n",
        "    else:\r\n",
        "      if n>1:\r\n",
        "        return fibonacci(n-1) + fibonacci(n-2)\r\n",
        "      else:\r\n",
        "        print(\"numero invalido\")\r\n",
        "\r\n",
        "fibonacci(10)"
      ],
      "execution_count": 15,
      "outputs": [
        {
          "output_type": "execute_result",
          "data": {
            "text/plain": [
              "55"
            ]
          },
          "metadata": {
            "tags": []
          },
          "execution_count": 15
        }
      ]
    }
  ]
}